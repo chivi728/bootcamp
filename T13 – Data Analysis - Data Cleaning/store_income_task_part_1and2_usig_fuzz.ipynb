{
 "cells": [
  {
   "metadata": {},
   "cell_type": "markdown",
   "source": "",
   "id": "bea27027bb3857ce"
  },
  {
   "metadata": {
    "ExecuteTime": {
     "end_time": "2025-01-23T15:21:51.374368Z",
     "start_time": "2025-01-23T15:21:51.369827Z"
    }
   },
   "cell_type": "code",
   "source": [
    "# Import libraries\n",
    "import pandas as pd\n",
    "import numpy as np\n",
    "\n",
    "import fuzzywuzzy\n",
    "from fuzzywuzzy import process"
   ],
   "id": "c699723f314b1aa4",
   "outputs": [],
   "execution_count": 2
  },
  {
   "metadata": {
    "ExecuteTime": {
     "end_time": "2025-01-23T15:21:54.717638Z",
     "start_time": "2025-01-23T15:21:54.659255Z"
    }
   },
   "cell_type": "code",
   "source": [
    "import charset_normalizer\n",
    "\n",
    "# set up the Df\n",
    "countries_df = pd.read_csv('store_income_data_task.csv')\n",
    "np.random.seed(10)\n",
    "countries_df.head()"
   ],
   "id": "3b9e96419f5fd0eb",
   "outputs": [
    {
     "data": {
      "text/plain": [
       "   id                   store_name         store_email  department  \\\n",
       "0   1   Cullen/Frost Bankers, Inc.                 NaN    Clothing   \n",
       "1   2          Nordson Corporation                 NaN       Tools   \n",
       "2   3        Stag Industrial, Inc.                 NaN      Beauty   \n",
       "3   4          FIRST REPUBLIC BANK  ecanadine3@fc2.com  Automotive   \n",
       "4   5  Mercantile Bank Corporation                 NaN        Baby   \n",
       "\n",
       "         income date_measured          country  \n",
       "0  $54438554.24      4-2-2006   United States/  \n",
       "1  $41744177.01      4-1-2006          Britain  \n",
       "2  $36152340.34     12-9-2003    United States  \n",
       "3   $8928350.04      8-5-2006         Britain/  \n",
       "4  $33552742.32     21-1-1973   United Kingdom  "
      ],
      "text/html": [
       "<div>\n",
       "<style scoped>\n",
       "    .dataframe tbody tr th:only-of-type {\n",
       "        vertical-align: middle;\n",
       "    }\n",
       "\n",
       "    .dataframe tbody tr th {\n",
       "        vertical-align: top;\n",
       "    }\n",
       "\n",
       "    .dataframe thead th {\n",
       "        text-align: right;\n",
       "    }\n",
       "</style>\n",
       "<table border=\"1\" class=\"dataframe\">\n",
       "  <thead>\n",
       "    <tr style=\"text-align: right;\">\n",
       "      <th></th>\n",
       "      <th>id</th>\n",
       "      <th>store_name</th>\n",
       "      <th>store_email</th>\n",
       "      <th>department</th>\n",
       "      <th>income</th>\n",
       "      <th>date_measured</th>\n",
       "      <th>country</th>\n",
       "    </tr>\n",
       "  </thead>\n",
       "  <tbody>\n",
       "    <tr>\n",
       "      <th>0</th>\n",
       "      <td>1</td>\n",
       "      <td>Cullen/Frost Bankers, Inc.</td>\n",
       "      <td>NaN</td>\n",
       "      <td>Clothing</td>\n",
       "      <td>$54438554.24</td>\n",
       "      <td>4-2-2006</td>\n",
       "      <td>United States/</td>\n",
       "    </tr>\n",
       "    <tr>\n",
       "      <th>1</th>\n",
       "      <td>2</td>\n",
       "      <td>Nordson Corporation</td>\n",
       "      <td>NaN</td>\n",
       "      <td>Tools</td>\n",
       "      <td>$41744177.01</td>\n",
       "      <td>4-1-2006</td>\n",
       "      <td>Britain</td>\n",
       "    </tr>\n",
       "    <tr>\n",
       "      <th>2</th>\n",
       "      <td>3</td>\n",
       "      <td>Stag Industrial, Inc.</td>\n",
       "      <td>NaN</td>\n",
       "      <td>Beauty</td>\n",
       "      <td>$36152340.34</td>\n",
       "      <td>12-9-2003</td>\n",
       "      <td>United States</td>\n",
       "    </tr>\n",
       "    <tr>\n",
       "      <th>3</th>\n",
       "      <td>4</td>\n",
       "      <td>FIRST REPUBLIC BANK</td>\n",
       "      <td>ecanadine3@fc2.com</td>\n",
       "      <td>Automotive</td>\n",
       "      <td>$8928350.04</td>\n",
       "      <td>8-5-2006</td>\n",
       "      <td>Britain/</td>\n",
       "    </tr>\n",
       "    <tr>\n",
       "      <th>4</th>\n",
       "      <td>5</td>\n",
       "      <td>Mercantile Bank Corporation</td>\n",
       "      <td>NaN</td>\n",
       "      <td>Baby</td>\n",
       "      <td>$33552742.32</td>\n",
       "      <td>21-1-1973</td>\n",
       "      <td>United Kingdom</td>\n",
       "    </tr>\n",
       "  </tbody>\n",
       "</table>\n",
       "</div>"
      ]
     },
     "execution_count": 3,
     "metadata": {},
     "output_type": "execute_result"
    }
   ],
   "execution_count": 3
  },
  {
   "metadata": {
    "ExecuteTime": {
     "end_time": "2025-01-23T15:22:03.249112Z",
     "start_time": "2025-01-23T15:22:03.235377Z"
    }
   },
   "cell_type": "code",
   "source": [
    "# Print the unique countries\n",
    "countries = countries_df['country'].unique()\n",
    "print(f\"There are {len(countries)} unique countries\")\n",
    "countries"
   ],
   "id": "888eeb64e2a8bb57",
   "outputs": [
    {
     "name": "stdout",
     "output_type": "stream",
     "text": [
      "There are 77 unique countries\n"
     ]
    },
    {
     "data": {
      "text/plain": [
       "array(['United States/', 'Britain', ' United States', 'Britain/',\n",
       "       ' United Kingdom', 'U.K.', 'SA ', 'U.K/', 'America',\n",
       "       'United Kingdom', nan, 'united states', ' S.A.', 'England ', 'UK',\n",
       "       'S.A./', 'ENGLAND', 'BRITAIN', 'U.K', 'U.K ', 'America/', 'SA.',\n",
       "       'S.A. ', 'u.k', 'uk', ' ', 'UK.', 'England/', 'england',\n",
       "       ' Britain', 'united states of america', 'UK/', 'SA/', 'SA',\n",
       "       'England.', 'UNITED KINGDOM', 'America.', 'S.A..', 's.a.', ' U.K',\n",
       "       ' United States of America', 'Britain ', 'England', ' SA',\n",
       "       'United States of America.', 'United States of America/',\n",
       "       'United States.', 's. africasouth africa', ' England',\n",
       "       'United Kingdom ', 'United States of America ', ' UK',\n",
       "       'united kingdom', 'AMERICA', 'America ',\n",
       "       'UNITED STATES OF AMERICA', ' S. AfricaSouth Africa', 'america',\n",
       "       'S. AFRICASOUTH AFRICA', 'Britain.', '/', 'United Kingdom.',\n",
       "       'United States', ' America', 'UNITED STATES', 'sa',\n",
       "       'United States of America', 'UK ', 'United States ',\n",
       "       'S. AfricaSouth Africa/', 'S.A.', 'United Kingdom/',\n",
       "       'S. AfricaSouth Africa ', 'S. AfricaSouth Africa.',\n",
       "       'S. AfricaSouth Africa', '.', 'britain'], dtype=object)"
      ]
     },
     "execution_count": 4,
     "metadata": {},
     "output_type": "execute_result"
    }
   ],
   "execution_count": 4
  },
  {
   "metadata": {
    "ExecuteTime": {
     "end_time": "2025-01-23T15:22:06.285471Z",
     "start_time": "2025-01-23T15:22:06.268149Z"
    }
   },
   "cell_type": "code",
   "source": [
    "# Function to clean the country list and return unique cleaned values\n",
    "def clean_country_column(df, column_name):\n",
    "    df[column_name] = (df[column_name]\n",
    "                       .str.replace(r\"[./]\", \"\", regex=True)\n",
    "                       .str.replace(r\"\\s+\", \" \", regex=True)\n",
    "                       .str.strip()\n",
    "                       .str.lower())\n",
    "\n",
    "    unique_countries = df[column_name].unique()\n",
    "    print(f\"There are {len(unique_countries)} unique countries\")\n",
    "    return unique_countries\n",
    "\n",
    "\n",
    "# Calling the function and checking for unique values\n",
    "countries = clean_country_column(countries_df, 'country')\n",
    "countries"
   ],
   "id": "c19af770f85d5f87",
   "outputs": [
    {
     "name": "stdout",
     "output_type": "stream",
     "text": [
      "There are 11 unique countries\n"
     ]
    },
    {
     "data": {
      "text/plain": [
       "array(['united states', 'britain', 'united kingdom', 'uk', 'sa',\n",
       "       'america', nan, 'england', '', 'united states of america',\n",
       "       's africasouth africa'], dtype=object)"
      ]
     },
     "execution_count": 5,
     "metadata": {},
     "output_type": "execute_result"
    }
   ],
   "execution_count": 5
  },
  {
   "metadata": {
    "ExecuteTime": {
     "end_time": "2025-01-23T15:08:05.228548Z",
     "start_time": "2025-01-23T15:08:05.220399Z"
    }
   },
   "cell_type": "code",
   "source": [
    "# get the top 10 closest matches to \"south africa and so on for the rest of the countries\"\n",
    "matches = fuzzywuzzy.process.extract(\"south africa\", countries, limit=10, scorer=fuzzywuzzy.fuzz.token_sort_ratio)\n",
    "\n",
    "# take a look at them\n",
    "matches"
   ],
   "outputs": [
    {
     "data": {
      "text/plain": [
       "[('s africasouth africa', 75),\n",
       " ('united kingdom', 31),\n",
       " ('united states', 24),\n",
       " ('sa', 14),\n",
       " (nan, 13),\n",
       " ('', 0)]"
      ]
     },
     "execution_count": 116,
     "metadata": {},
     "output_type": "execute_result"
    }
   ],
   "execution_count": 116,
   "id": "8b7bbedce8bcc774"
  },
  {
   "metadata": {
    "ExecuteTime": {
     "end_time": "2025-01-23T15:08:36.606579Z",
     "start_time": "2025-01-23T15:08:36.599512Z"
    }
   },
   "cell_type": "code",
   "source": [
    "# function to replace rows in the provided column of the provided dataframe\n",
    "# that match the provided string above the provided ratio with the provided string\n",
    "# Changing the min_ratio the list of the countries will update according our needs\n",
    "def replace_matches_in_column(df, column, string_to_match, min_ratio=14):\n",
    "    # get a list of unique strings\n",
    "    strings = df[column].unique()\n",
    "\n",
    "    # get the top 10 closest matches to our input string\n",
    "    matches = fuzzywuzzy.process.extract(string_to_match, strings,\n",
    "                                         limit=10, scorer=fuzzywuzzy.fuzz.token_sort_ratio)\n",
    "\n",
    "    # only get matches with a ratio > 90\n",
    "    close_matches = [matches[0] for matches in matches if matches[1] == min_ratio]\n",
    "\n",
    "    # get the rows of all the close matches in our dataframe\n",
    "    rows_with_matches = df[column].isin(close_matches)\n",
    "\n",
    "    # replace all rows with close matches with the input matches\n",
    "    df.loc[rows_with_matches, column] = string_to_match\n",
    "\n",
    "    # let us know the function's done\n",
    "    print(\"All done!\")"
   ],
   "outputs": [],
   "execution_count": 121,
   "id": "c7b54a0e84c727b8"
  },
  {
   "metadata": {
    "ExecuteTime": {
     "end_time": "2025-01-23T15:08:49.029786Z",
     "start_time": "2025-01-23T15:08:49.021579Z"
    }
   },
   "cell_type": "code",
   "source": [
    "# Calling the function\n",
    "replace_matches_in_column(df=countries_df, column='country', string_to_match=\"south africa\")\n",
    "\n",
    "# Filling the NaN values with unknown\n",
    "countries_df.fillna('unknown', inplace=True)"
   ],
   "outputs": [
    {
     "name": "stdout",
     "output_type": "stream",
     "text": [
      "All done!\n"
     ]
    }
   ],
   "execution_count": 124,
   "id": "3ae9fda44cc46350"
  },
  {
   "metadata": {
    "ExecuteTime": {
     "end_time": "2025-01-23T15:08:50.678854Z",
     "start_time": "2025-01-23T15:08:50.669911Z"
    }
   },
   "cell_type": "code",
   "source": [
    "# Check agin for unique values\n",
    "countries = countries_df['country'].unique()\n",
    "print(f\"There are {len(countries)} unique countries\")\n",
    "countries\n"
   ],
   "outputs": [
    {
     "name": "stdout",
     "output_type": "stream",
     "text": [
      "There are 5 unique countries\n"
     ]
    },
    {
     "data": {
      "text/plain": [
       "array(['united states', 'united kingdom', 'south africa', 'unknown', ''],\n",
       "      dtype=object)"
      ]
     },
     "execution_count": 125,
     "metadata": {},
     "output_type": "execute_result"
    }
   ],
   "execution_count": 125,
   "id": "953e7227703261c3"
  }
 ],
 "metadata": {
  "colab": {
   "provenance": []
  },
  "kernelspec": {
   "display_name": "Python 3.10.0 ('phd')",
   "language": "python",
   "name": "python3"
  },
  "language_info": {
   "codemirror_mode": {
    "name": "ipython",
    "version": 3
   },
   "file_extension": ".py",
   "mimetype": "text/x-python",
   "name": "python",
   "nbconvert_exporter": "python",
   "pygments_lexer": "ipython3",
   "version": "3.10.0"
  },
  "vscode": {
   "interpreter": {
    "hash": "63d17dc58a06b6a6d4136fb13c245dafcf53668da37b1c3052c24d689135f5bb"
   }
  }
 },
 "nbformat": 4,
 "nbformat_minor": 0
}
