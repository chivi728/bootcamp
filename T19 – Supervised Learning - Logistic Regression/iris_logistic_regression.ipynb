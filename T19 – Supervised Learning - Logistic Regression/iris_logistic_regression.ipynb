{
 "cells": [
  {
   "metadata": {},
   "cell_type": "markdown",
   "source": [
    "Resources used for completion of this task:\n",
    "\n",
    "    - Coursera. (n.d.). Medical Insurance Premium Prediction with Machine Learning [Online course].\n",
    "      Retrieved February 10, 2025,\n",
    "      from https://www.coursera.org/learn/medical-insurance-premium-prediction-with-machine-learning\n",
    "    - Coursera. (n.d.). Logistic Regression with NumPy and Python [Online course].\n",
    "      Retrieved February 10, 2025,\n",
    "      from https://www.coursera.org/learn/logistic-regression-numpy-python\n",
    "    - Liu, Y. (Hayden). (2020). Python machine learning by example: Unlock machine learning best practices with\n",
    "      real-world use cases (3rd ed.). Packt Publishing.\n"
   ],
   "id": "e80cc59b54303dc1"
  },
  {
   "metadata": {
    "collapsed": true,
    "ExecuteTime": {
     "end_time": "2025-02-11T19:59:13.599278Z",
     "start_time": "2025-02-11T19:59:13.564616Z"
    }
   },
   "cell_type": "code",
   "source": [
    "# Importing necessary libraries\n",
    "import numpy as np\n",
    "import pandas as pd\n",
    "import matplotlib.pyplot as plt\n",
    "from sklearn.datasets import load_iris\n",
    "from sklearn.model_selection import train_test_split\n",
    "from sklearn.linear_model import LogisticRegression\n",
    "from sklearn import preprocessing\n",
    "from sklearn.preprocessing import StandardScaler\n",
    "from sklearn.metrics import confusion_matrix\n",
    "import seaborn as sns\n",
    "from sklearn.metrics import accuracy_score, precision_score, recall_score\n",
    "\n",
    "\n",
    "\n",
    "data = pd.read_csv('iris.csv')\n",
    "data.head()"
   ],
   "id": "initial_id",
   "outputs": [
    {
     "data": {
      "text/plain": [
       "   Id  SepalLengthCm  SepalWidthCm  PetalLengthCm  PetalWidthCm      Species\n",
       "0   1            5.1           3.5            1.4           0.2  Iris-setosa\n",
       "1   2            4.9           3.0            1.4           0.2  Iris-setosa\n",
       "2   3            4.7           3.2            1.3           0.2  Iris-setosa\n",
       "3   4            4.6           3.1            1.5           0.2  Iris-setosa\n",
       "4   5            5.0           3.6            1.4           0.2  Iris-setosa"
      ],
      "text/html": [
       "<div>\n",
       "<style scoped>\n",
       "    .dataframe tbody tr th:only-of-type {\n",
       "        vertical-align: middle;\n",
       "    }\n",
       "\n",
       "    .dataframe tbody tr th {\n",
       "        vertical-align: top;\n",
       "    }\n",
       "\n",
       "    .dataframe thead th {\n",
       "        text-align: right;\n",
       "    }\n",
       "</style>\n",
       "<table border=\"1\" class=\"dataframe\">\n",
       "  <thead>\n",
       "    <tr style=\"text-align: right;\">\n",
       "      <th></th>\n",
       "      <th>Id</th>\n",
       "      <th>SepalLengthCm</th>\n",
       "      <th>SepalWidthCm</th>\n",
       "      <th>PetalLengthCm</th>\n",
       "      <th>PetalWidthCm</th>\n",
       "      <th>Species</th>\n",
       "    </tr>\n",
       "  </thead>\n",
       "  <tbody>\n",
       "    <tr>\n",
       "      <th>0</th>\n",
       "      <td>1</td>\n",
       "      <td>5.1</td>\n",
       "      <td>3.5</td>\n",
       "      <td>1.4</td>\n",
       "      <td>0.2</td>\n",
       "      <td>Iris-setosa</td>\n",
       "    </tr>\n",
       "    <tr>\n",
       "      <th>1</th>\n",
       "      <td>2</td>\n",
       "      <td>4.9</td>\n",
       "      <td>3.0</td>\n",
       "      <td>1.4</td>\n",
       "      <td>0.2</td>\n",
       "      <td>Iris-setosa</td>\n",
       "    </tr>\n",
       "    <tr>\n",
       "      <th>2</th>\n",
       "      <td>3</td>\n",
       "      <td>4.7</td>\n",
       "      <td>3.2</td>\n",
       "      <td>1.3</td>\n",
       "      <td>0.2</td>\n",
       "      <td>Iris-setosa</td>\n",
       "    </tr>\n",
       "    <tr>\n",
       "      <th>3</th>\n",
       "      <td>4</td>\n",
       "      <td>4.6</td>\n",
       "      <td>3.1</td>\n",
       "      <td>1.5</td>\n",
       "      <td>0.2</td>\n",
       "      <td>Iris-setosa</td>\n",
       "    </tr>\n",
       "    <tr>\n",
       "      <th>4</th>\n",
       "      <td>5</td>\n",
       "      <td>5.0</td>\n",
       "      <td>3.6</td>\n",
       "      <td>1.4</td>\n",
       "      <td>0.2</td>\n",
       "      <td>Iris-setosa</td>\n",
       "    </tr>\n",
       "  </tbody>\n",
       "</table>\n",
       "</div>"
      ]
     },
     "execution_count": 45,
     "metadata": {},
     "output_type": "execute_result"
    }
   ],
   "execution_count": 45
  },
  {
   "metadata": {},
   "cell_type": "markdown",
   "source": [
    "Encode your dependent variable y such that Iris-setosa is encoded\n",
    "as 0, and Iris-versicolour and Iris-virginica are both encoded as 1\n",
    "Here, 0 corresponds to the Iris-setosa class, and 1 corresponds to\n",
    "the not-Iris-setosaclass."
   ],
   "id": "5c4d6efbd3b995f5"
  },
  {
   "metadata": {
    "ExecuteTime": {
     "end_time": "2025-02-11T19:59:20.653541Z",
     "start_time": "2025-02-11T19:59:20.643219Z"
    }
   },
   "cell_type": "code",
   "source": [
    "# Check for uniques values at species column\n",
    "data['Species'].unique()"
   ],
   "id": "73adabea9381d65f",
   "outputs": [
    {
     "data": {
      "text/plain": [
       "array(['Iris-setosa', 'Iris-versicolor', 'Iris-virginica'], dtype=object)"
      ]
     },
     "execution_count": 46,
     "metadata": {},
     "output_type": "execute_result"
    }
   ],
   "execution_count": 46
  },
  {
   "metadata": {
    "ExecuteTime": {
     "end_time": "2025-02-11T19:59:23.227988Z",
     "start_time": "2025-02-11T19:59:23.211876Z"
    }
   },
   "cell_type": "code",
   "source": [
    "# Set the values of species as 0 or 1\n",
    "#data['Species'] = data['Species'].map({'Iris-setosa': 0, 'Iris-versicolor': 1, 'Iris-virginica': 1})\n",
    "data['Species'] = (data['Species'] != 'Iris-setosa').astype(int)\n",
    "data['Species'].value_counts(normalize=True)\n"
   ],
   "id": "23b3423c253e0e6d",
   "outputs": [
    {
     "data": {
      "text/plain": [
       "Species\n",
       "1    0.666667\n",
       "0    0.333333\n",
       "Name: proportion, dtype: float64"
      ]
     },
     "execution_count": 47,
     "metadata": {},
     "output_type": "execute_result"
    }
   ],
   "execution_count": 47
  },
  {
   "metadata": {},
   "cell_type": "code",
   "source": [
    "# Dropping Id column\n",
    "data = data.drop(columns = ['Id'])\n",
    "data.head()"
   ],
   "id": "ec7a6641c176af56",
   "outputs": [
    {
     "data": {
      "text/plain": [
       "   SepalLengthCm  SepalWidthCm  PetalLengthCm  PetalWidthCm  Species\n",
       "0            5.1           3.5            1.4           0.2        0\n",
       "1            4.9           3.0            1.4           0.2        0\n",
       "2            4.7           3.2            1.3           0.2        0\n",
       "3            4.6           3.1            1.5           0.2        0\n",
       "4            5.0           3.6            1.4           0.2        0"
      ],
      "text/html": [
       "<div>\n",
       "<style scoped>\n",
       "    .dataframe tbody tr th:only-of-type {\n",
       "        vertical-align: middle;\n",
       "    }\n",
       "\n",
       "    .dataframe tbody tr th {\n",
       "        vertical-align: top;\n",
       "    }\n",
       "\n",
       "    .dataframe thead th {\n",
       "        text-align: right;\n",
       "    }\n",
       "</style>\n",
       "<table border=\"1\" class=\"dataframe\">\n",
       "  <thead>\n",
       "    <tr style=\"text-align: right;\">\n",
       "      <th></th>\n",
       "      <th>SepalLengthCm</th>\n",
       "      <th>SepalWidthCm</th>\n",
       "      <th>PetalLengthCm</th>\n",
       "      <th>PetalWidthCm</th>\n",
       "      <th>Species</th>\n",
       "    </tr>\n",
       "  </thead>\n",
       "  <tbody>\n",
       "    <tr>\n",
       "      <th>0</th>\n",
       "      <td>5.1</td>\n",
       "      <td>3.5</td>\n",
       "      <td>1.4</td>\n",
       "      <td>0.2</td>\n",
       "      <td>0</td>\n",
       "    </tr>\n",
       "    <tr>\n",
       "      <th>1</th>\n",
       "      <td>4.9</td>\n",
       "      <td>3.0</td>\n",
       "      <td>1.4</td>\n",
       "      <td>0.2</td>\n",
       "      <td>0</td>\n",
       "    </tr>\n",
       "    <tr>\n",
       "      <th>2</th>\n",
       "      <td>4.7</td>\n",
       "      <td>3.2</td>\n",
       "      <td>1.3</td>\n",
       "      <td>0.2</td>\n",
       "      <td>0</td>\n",
       "    </tr>\n",
       "    <tr>\n",
       "      <th>3</th>\n",
       "      <td>4.6</td>\n",
       "      <td>3.1</td>\n",
       "      <td>1.5</td>\n",
       "      <td>0.2</td>\n",
       "      <td>0</td>\n",
       "    </tr>\n",
       "    <tr>\n",
       "      <th>4</th>\n",
       "      <td>5.0</td>\n",
       "      <td>3.6</td>\n",
       "      <td>1.4</td>\n",
       "      <td>0.2</td>\n",
       "      <td>0</td>\n",
       "    </tr>\n",
       "  </tbody>\n",
       "</table>\n",
       "</div>"
      ]
     },
     "execution_count": 48,
     "metadata": {},
     "output_type": "execute_result"
    }
   ],
   "execution_count": 48
  },
  {
   "metadata": {},
   "cell_type": "markdown",
   "source": "Split the data into a training and test set.",
   "id": "7b2703e8bb9942e7"
  },
  {
   "metadata": {
    "ExecuteTime": {
     "end_time": "2025-02-11T19:59:43.696568Z",
     "start_time": "2025-02-11T19:59:43.686444Z"
    }
   },
   "cell_type": "code",
   "source": [
    "# Assign to X and y the independent and dependent variables\n",
    "X = data.drop(columns = ['Species']).to_numpy()\n",
    "y = data['Species'].values\n"
   ],
   "id": "65cd463910e1ae05",
   "outputs": [],
   "execution_count": 49
  },
  {
   "metadata": {
    "ExecuteTime": {
     "end_time": "2025-02-11T19:59:48.829327Z",
     "start_time": "2025-02-11T19:59:48.816673Z"
    }
   },
   "cell_type": "code",
   "source": [
    "# Getting the train and test data split into 80%-20%\n",
    "X_train, X_test, y_train, y_test = train_test_split(X, y, test_size = 0.2, random_state = 42)\n",
    "\n",
    "print(\"Training data:\",X_train.shape, y_train.shape)\n",
    "print(\"Test data:\",X_test.shape, y_test.shape)"
   ],
   "id": "b0be2dd2908a8780",
   "outputs": [
    {
     "name": "stdout",
     "output_type": "stream",
     "text": [
      "Training data: (120, 4) (120,)\n",
      "Test data: (30, 4) (30,)\n"
     ]
    }
   ],
   "execution_count": 50
  },
  {
   "metadata": {},
   "cell_type": "markdown",
   "source": "Use the LogisticRegression class from scikit-learn to build and train a logistic regression model on the training dataset. Then, use the trained model to predict the outcomes on the test dataset.",
   "id": "cf333b3f126cfb73"
  },
  {
   "metadata": {
    "ExecuteTime": {
     "end_time": "2025-02-11T19:59:55.089079Z",
     "start_time": "2025-02-11T19:59:55.066715Z"
    }
   },
   "cell_type": "code",
   "source": [
    "# Scaler the data\n",
    "scaler = StandardScaler()\n",
    "X_train_standard = scaler.fit_transform(X_train)\n",
    "X_test_standard = scaler.transform(X_test)\n",
    "\n",
    "# Apply to the model a logistic regression\n",
    "model = LogisticRegression()\n",
    "model.fit(X_train_standard, y_train)\n",
    "y_pred = model.predict(X_test_standard)\n",
    "\n",
    "print(\"Predictions on test data:\", y_pred)"
   ],
   "id": "22d07ebd483468c6",
   "outputs": [
    {
     "name": "stdout",
     "output_type": "stream",
     "text": [
      "Predictions on test data: [1 0 1 1 1 0 1 1 1 1 1 0 0 0 0 1 1 1 1 1 0 1 0 1 1 1 1 1 0 0]\n"
     ]
    }
   ],
   "execution_count": 51
  },
  {
   "metadata": {},
   "cell_type": "markdown",
   "source": [
    "Use scikit-learn to generate a confusion matrix that compares the\n",
    "predicted labels to the actual labels (gold labels)."
   ],
   "id": "830569a531791acf"
  },
  {
   "metadata": {
    "ExecuteTime": {
     "end_time": "2025-02-11T19:56:05.960765Z",
     "start_time": "2025-02-11T19:56:05.943987Z"
    }
   },
   "cell_type": "code",
   "source": [
    "# Map numeric labels back to species names for the confusion matrix\n",
    "classes = ['Iris-setosa', 'Non Iris-setosa']\n",
    "\n",
    "# Generate the confusion matrix (use encoded labels 0 and 1)\n",
    "conf_matrix = confusion_matrix(y_test, y_pred, labels=[0, 1])\n",
    "\n",
    "# Convert the confusion matrix to a DataFrame (only include the relevant classes)\n",
    "cm_df = pd.DataFrame(conf_matrix, columns=classes, index=classes)\n",
    "\n",
    "# Show the confusion matrix\n",
    "print(\"Confusion Matrix:\")\n",
    "print(cm_df)\n",
    "\n"
   ],
   "id": "508527eb1503dac4",
   "outputs": [
    {
     "name": "stdout",
     "output_type": "stream",
     "text": [
      "Confusion Matrix:\n",
      "                 Iris-setosa  Non Iris-setosa\n",
      "Iris-setosa               10                0\n",
      "Non Iris-setosa            0               20\n"
     ]
    }
   ],
   "execution_count": 41
  },
  {
   "metadata": {},
   "cell_type": "markdown",
   "source": [
    "Model Performance Analysis\n",
    "\n",
    "Upon reviewing the confusion matrix, we can analyze the model's precision and recall:\n",
    "\n",
    "-Precision: Precision will be higher if the model does not frequently misclassify Iris-versicolor and Iris-virginica as Iris-setosa. That is, if the model is conservative in predicting Iris-setosa and only makes a prediction when confident.\n",
    "\n",
    "-Recall: Recall will be higher if the model identifies most instances of Iris-setosa without missing many true Iris-setosa cases. However, this could come at the cost of lower precision if the model is too lenient and incorrectly classifies non-Iris-setosa as Iris-setosa.\n",
    "\n",
    "Given that Iris-setosa is the minority class, the model is more likely to predict the dominant class (Iris-versicolor and Iris-virginica combined). As a result, the model is likely to exhibit higher recall but lower precision for Iris-setosa. In other words, the model might miss some true Iris-setosa cases (low recall), but when it predicts Iris-setosa, it will be more accurate (high precision).\n"
   ],
   "id": "9011a1e2ae22f8b8"
  },
  {
   "metadata": {},
   "cell_type": "markdown",
   "source": [
    "Instead of using sklearn’s built-in function, write your own code to\n",
    "calculate accuracy, precision, and recall. Once you've calculated these\n",
    "metrics manually, compare your results with those obtained from\n",
    "scikit-learn to see if they align."
   ],
   "id": "c9a48f86a8259d46"
  },
  {
   "metadata": {
    "ExecuteTime": {
     "end_time": "2025-02-11T20:00:28.567710Z",
     "start_time": "2025-02-11T20:00:28.543866Z"
    }
   },
   "cell_type": "code",
   "source": [
    "# Calculate metrics manually\n",
    "TP = conf_matrix[0, 0]  # True Positives (Iris-setosa correctly predicted as Iris-setosa)\n",
    "FP = conf_matrix[1, 0]  # False Positives (Non Iris-setosa incorrectly predicted as Iris-setosa)\n",
    "FN = conf_matrix[0, 1]  # False Negatives (Iris-setosa incorrectly predicted as Non Iris-setosa)\n",
    "TN = conf_matrix[1, 1]  # True Negatives (Non Iris-setosa correctly predicted as Non Iris-setosa)\n",
    "\n",
    "# Accuracy calculation\n",
    "accuracy_manual = (TP + TN) / (TP + FP + FN + TN)\n",
    "\n",
    "# Precision calculation\n",
    "precision_manual = TP / (TP + FP) if (TP + FP) > 0 else 0\n",
    "\n",
    "# Recall calculation\n",
    "recall_manual = TP / (TP + FN) if (TP + FN) > 0 else 0\n",
    "\n",
    "# Display the manually calculated metrics\n",
    "print(\"Manual Calculations:\")\n",
    "print(\"Accuracy (manual):\", accuracy_manual)\n",
    "print(\"Precision (manual):\", precision_manual)\n",
    "print(\"Recall (manual):\", recall_manual)\n",
    "\n",
    "# Compare with sklearn's built-in calculations\n",
    "print(\"\\nComparison with sklearn:\")\n",
    "print(\"Accuracy (sklearn):\", accuracy_score(y_test, y_pred))\n",
    "print(\"Precision (sklearn):\", precision_score(y_test, y_pred))\n",
    "print(\"Recall (sklearn):\", recall_score(y_test, y_pred))"
   ],
   "id": "d553ac5cd246c285",
   "outputs": [
    {
     "name": "stdout",
     "output_type": "stream",
     "text": [
      "Manual Calculations:\n",
      "Accuracy (manual): 1.0\n",
      "Precision (manual): 1.0\n",
      "Recall (manual): 1.0\n",
      "\n",
      "Comparison with sklearn:\n",
      "Accuracy (sklearn): 1.0\n",
      "Precision (sklearn): 1.0\n",
      "Recall (sklearn): 1.0\n"
     ]
    }
   ],
   "execution_count": 52
  }
 ],
 "metadata": {
  "kernelspec": {
   "display_name": "Python 3",
   "language": "python",
   "name": "python3"
  },
  "language_info": {
   "codemirror_mode": {
    "name": "ipython",
    "version": 2
   },
   "file_extension": ".py",
   "mimetype": "text/x-python",
   "name": "python",
   "nbconvert_exporter": "python",
   "pygments_lexer": "ipython2",
   "version": "2.7.6"
  }
 },
 "nbformat": 4,
 "nbformat_minor": 5
}
