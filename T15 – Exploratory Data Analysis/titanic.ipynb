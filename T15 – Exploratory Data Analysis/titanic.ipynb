{
 "cells": [
  {
   "cell_type": "code",
   "id": "initial_id",
   "metadata": {
    "collapsed": true,
    "ExecuteTime": {
     "end_time": "2025-01-29T10:12:11.419693Z",
     "start_time": "2025-01-29T10:12:11.099358Z"
    }
   },
   "source": [
    "import pandas as pd\n",
    "import matplotlib.pyplot as plt\n",
    "import numpy as np\n",
    "import seaborn as sns\n",
    "\n",
    "\n",
    "titanic_passenger = pd.read_csv('titanic.csv')\n",
    "titanic_passenger.head()"
   ],
   "outputs": [
    {
     "data": {
      "text/plain": [
       "   PassengerId  Survived  Pclass  \\\n",
       "0            1         0       3   \n",
       "1            2         1       1   \n",
       "2            3         1       3   \n",
       "3            4         1       1   \n",
       "4            5         0       3   \n",
       "\n",
       "                                                Name     Sex   Age  SibSp  \\\n",
       "0                            Braund, Mr. Owen Harris    male  22.0      1   \n",
       "1  Cumings, Mrs. John Bradley (Florence Briggs Th...  female  38.0      1   \n",
       "2                             Heikkinen, Miss. Laina  female  26.0      0   \n",
       "3       Futrelle, Mrs. Jacques Heath (Lily May Peel)  female  35.0      1   \n",
       "4                           Allen, Mr. William Henry    male  35.0      0   \n",
       "\n",
       "   Parch            Ticket     Fare Cabin Embarked  \n",
       "0      0         A/5 21171   7.2500   NaN        S  \n",
       "1      0          PC 17599  71.2833   C85        C  \n",
       "2      0  STON/O2. 3101282   7.9250   NaN        S  \n",
       "3      0            113803  53.1000  C123        S  \n",
       "4      0            373450   8.0500   NaN        S  "
      ],
      "text/html": [
       "<div>\n",
       "<style scoped>\n",
       "    .dataframe tbody tr th:only-of-type {\n",
       "        vertical-align: middle;\n",
       "    }\n",
       "\n",
       "    .dataframe tbody tr th {\n",
       "        vertical-align: top;\n",
       "    }\n",
       "\n",
       "    .dataframe thead th {\n",
       "        text-align: right;\n",
       "    }\n",
       "</style>\n",
       "<table border=\"1\" class=\"dataframe\">\n",
       "  <thead>\n",
       "    <tr style=\"text-align: right;\">\n",
       "      <th></th>\n",
       "      <th>PassengerId</th>\n",
       "      <th>Survived</th>\n",
       "      <th>Pclass</th>\n",
       "      <th>Name</th>\n",
       "      <th>Sex</th>\n",
       "      <th>Age</th>\n",
       "      <th>SibSp</th>\n",
       "      <th>Parch</th>\n",
       "      <th>Ticket</th>\n",
       "      <th>Fare</th>\n",
       "      <th>Cabin</th>\n",
       "      <th>Embarked</th>\n",
       "    </tr>\n",
       "  </thead>\n",
       "  <tbody>\n",
       "    <tr>\n",
       "      <th>0</th>\n",
       "      <td>1</td>\n",
       "      <td>0</td>\n",
       "      <td>3</td>\n",
       "      <td>Braund, Mr. Owen Harris</td>\n",
       "      <td>male</td>\n",
       "      <td>22.0</td>\n",
       "      <td>1</td>\n",
       "      <td>0</td>\n",
       "      <td>A/5 21171</td>\n",
       "      <td>7.2500</td>\n",
       "      <td>NaN</td>\n",
       "      <td>S</td>\n",
       "    </tr>\n",
       "    <tr>\n",
       "      <th>1</th>\n",
       "      <td>2</td>\n",
       "      <td>1</td>\n",
       "      <td>1</td>\n",
       "      <td>Cumings, Mrs. John Bradley (Florence Briggs Th...</td>\n",
       "      <td>female</td>\n",
       "      <td>38.0</td>\n",
       "      <td>1</td>\n",
       "      <td>0</td>\n",
       "      <td>PC 17599</td>\n",
       "      <td>71.2833</td>\n",
       "      <td>C85</td>\n",
       "      <td>C</td>\n",
       "    </tr>\n",
       "    <tr>\n",
       "      <th>2</th>\n",
       "      <td>3</td>\n",
       "      <td>1</td>\n",
       "      <td>3</td>\n",
       "      <td>Heikkinen, Miss. Laina</td>\n",
       "      <td>female</td>\n",
       "      <td>26.0</td>\n",
       "      <td>0</td>\n",
       "      <td>0</td>\n",
       "      <td>STON/O2. 3101282</td>\n",
       "      <td>7.9250</td>\n",
       "      <td>NaN</td>\n",
       "      <td>S</td>\n",
       "    </tr>\n",
       "    <tr>\n",
       "      <th>3</th>\n",
       "      <td>4</td>\n",
       "      <td>1</td>\n",
       "      <td>1</td>\n",
       "      <td>Futrelle, Mrs. Jacques Heath (Lily May Peel)</td>\n",
       "      <td>female</td>\n",
       "      <td>35.0</td>\n",
       "      <td>1</td>\n",
       "      <td>0</td>\n",
       "      <td>113803</td>\n",
       "      <td>53.1000</td>\n",
       "      <td>C123</td>\n",
       "      <td>S</td>\n",
       "    </tr>\n",
       "    <tr>\n",
       "      <th>4</th>\n",
       "      <td>5</td>\n",
       "      <td>0</td>\n",
       "      <td>3</td>\n",
       "      <td>Allen, Mr. William Henry</td>\n",
       "      <td>male</td>\n",
       "      <td>35.0</td>\n",
       "      <td>0</td>\n",
       "      <td>0</td>\n",
       "      <td>373450</td>\n",
       "      <td>8.0500</td>\n",
       "      <td>NaN</td>\n",
       "      <td>S</td>\n",
       "    </tr>\n",
       "  </tbody>\n",
       "</table>\n",
       "</div>"
      ]
     },
     "execution_count": 32,
     "metadata": {},
     "output_type": "execute_result"
    }
   ],
   "execution_count": 32
  },
  {
   "metadata": {
    "ExecuteTime": {
     "end_time": "2025-01-29T10:12:14.341837Z",
     "start_time": "2025-01-29T10:12:14.319629Z"
    }
   },
   "cell_type": "code",
   "source": [
    "# Calculate the total of non-survivors\n",
    "non_survivors = titanic_passenger[titanic_passenger['Survived'] == 0].shape[0]\n",
    "\n",
    "print(f\"Total non-survivors: {non_survivors} of {titanic_passenger.shape[0]} total passengers\")"
   ],
   "id": "24895e85971f50b7",
   "outputs": [
    {
     "name": "stdout",
     "output_type": "stream",
     "text": [
      "Total non-survivors: 549 of 891 total passengers\n"
     ]
    }
   ],
   "execution_count": 33
  },
  {
   "metadata": {
    "ExecuteTime": {
     "end_time": "2025-01-29T09:20:25.524431Z",
     "start_time": "2025-01-29T09:20:25.503529Z"
    }
   },
   "cell_type": "code",
   "source": [
    "# Number of female and male survivors\n",
    "male_survivors = titanic_passenger[(titanic_passenger['Sex'] == 'male') & (titanic_passenger['Survived'])].shape[0]\n",
    "print(\"Count of male survivors:\", male_survivors)\n",
    "\n",
    "female_survivors = titanic_passenger[(titanic_passenger['Sex'] == 'female') & (titanic_passenger['Survived'])].shape[0]\n",
    "print(\"Count of female survivors:\", female_survivors)"
   ],
   "id": "ab118ef5a49f5530",
   "outputs": [
    {
     "name": "stdout",
     "output_type": "stream",
     "text": [
      "Count of male survivors: 109\n",
      "Count of female survivors: 233\n"
     ]
    }
   ],
   "execution_count": 4
  },
  {
   "metadata": {},
   "cell_type": "markdown",
   "source": [
    "\n",
    "What is the most important factor in determining survival of the Titanic incident?\n",
    "\n",
    "Women and children first”. Was this the case?\n",
    "\n",
    "\n",
    "According to the calculations and the diagrams shown we can say:\n",
    "\n",
    "•\tBeing a woman will the most important factor for surviving as the rate is female 74% and male 19%\n",
    "\n",
    "•\tThat gives the answer to the question that women and child first to use the safe boats. We can see from the calculations that more the half of children under 18 survived\n",
    "\n",
    "\n"
   ],
   "id": "ee370af71cf13a44"
  },
  {
   "metadata": {
    "ExecuteTime": {
     "end_time": "2025-01-29T09:22:01.888835Z",
     "start_time": "2025-01-29T09:22:01.104405Z"
    }
   },
   "cell_type": "code",
   "source": [
    "# Calculate survival rates\n",
    "women = titanic_passenger.loc[titanic_passenger.Sex == 'female']['Survived']\n",
    "rate_women = women.sum() / women.count()\n",
    "print(\"% of women who survived:\", rate_women)\n",
    "\n",
    "men = titanic_passenger.loc[titanic_passenger.Sex == 'male']['Survived']\n",
    "rate_men = men.sum() / men.count()\n",
    "print(\"% of men who survived:\", rate_men)\n",
    "\n",
    "# Create bar chart to visualize survival rates\n",
    "plt.figure(figsize=(8, 5))\n",
    "categories = ['Women', 'Men']\n",
    "values = [rate_women, rate_men]\n",
    "colors = ['skyblue', 'lightgreen']\n",
    "\n",
    "plt.bar(categories, values, color=colors, edgecolor='black')\n",
    "plt.title('Survival Rate by Gender', fontsize=14)\n",
    "plt.xlabel('Gender', fontsize=12)\n",
    "plt.ylabel('Survival Rate', fontsize=12)\n",
    "plt.ylim(0, 1)\n",
    "plt.grid(axis='y', linestyle='--', alpha=0.7)\n",
    "plt.show()"
   ],
   "id": "35a72068c77a3cc7",
   "outputs": [
    {
     "name": "stdout",
     "output_type": "stream",
     "text": [
      "% of women who survived: 0.7420382165605095\n",
      "% of men who survived: 0.18890814558058924\n"
     ]
    },
    {
     "data": {
      "text/plain": [
       "<Figure size 800x500 with 1 Axes>"
      ],
      "image/png": "[encoded data removed]"
     },
     "metadata": {},
     "output_type": "display_data"
    }
   ],
   "execution_count": 7
  },
  {
   "metadata": {},
   "cell_type": "markdown",
   "source": [
    "Children that survived according their class\n",
    "\n",
    "On the calculations below we do these assumptions:\n",
    "•\tEven more children of third class survived than nearly the same amount of 1st and 2nd class. But this is because we had more children of third class than the other classes. We can see that only 1 child of 1st class and 2 of the 2nd class didn’t survive. In the other hand we see that 49 children of 3rd class did not survive\n",
    "•\tThis gives the idea that children or all passenger from 1st and 2nd class had more chances to survive but not the case for men\n"
   ],
   "id": "78b57c0c267ada00"
  },
  {
   "metadata": {
    "ExecuteTime": {
     "end_time": "2025-01-29T09:59:29.376626Z",
     "start_time": "2025-01-29T09:59:29.364702Z"
    }
   },
   "cell_type": "code",
   "source": [
    "# Number of children survivors and not survivors\n",
    "children_nonsurvivors = titanic_passenger[(titanic_passenger['Survived'] == 0) &(titanic_passenger ['Age'] < 18)]\n",
    "children_nonsurvivors = children_nonsurvivors.shape[0]\n",
    "print(f\"Total number of non survivors children: {children_nonsurvivors}\")\n",
    "\n",
    "children_survivors = titanic_passenger[(titanic_passenger['Survived']) &(titanic_passenger ['Age'] < 18)]\n",
    "children_survivors = children_survivors.shape[0]\n",
    "print(f\"Total number of children survivors: {children_survivors}\")\n"
   ],
   "id": "c595d52191e0a041",
   "outputs": [
    {
     "name": "stdout",
     "output_type": "stream",
     "text": [
      "Total number of non survivors children: 52\n",
      "Total number of children survivors: 61\n"
     ]
    }
   ],
   "execution_count": 31
  },
  {
   "metadata": {
    "ExecuteTime": {
     "end_time": "2025-01-29T09:53:27.035559Z",
     "start_time": "2025-01-29T09:53:27.014634Z"
    }
   },
   "cell_type": "code",
   "source": [
    "# Survivors and non survivors children per class\n",
    "\n",
    "# Class 1\n",
    "children_survivors_class1 = titanic_passenger[(titanic_passenger.Age < 18) & (titanic_passenger.Pclass == 1)]\n",
    "total_children_survivors_class1 = children_survivors_class1['Survived'].sum()\n",
    "print(f\"Total number of children of class 1 who survived: {total_children_survivors_class1}\")\n",
    "\n",
    "\n",
    "children_nonsurvivors_class1 = titanic_passenger[(titanic_passenger.Age < 18) & (titanic_passenger.Pclass == 1)]\n",
    "total_children_nonsurvivors_class1 = children_nonsurvivors_class1[children_nonsurvivors_class1['Survived'] == 0].shape[0]\n",
    "print(f\"Total number of children of class 1 who did not survive: {total_children_nonsurvivors_class1}\")\n",
    "\n",
    "# Class 2\n",
    "children_survivors_class2 = titanic_passenger[(titanic_passenger.Age < 18) & (titanic_passenger.Pclass == 2)]\n",
    "total_children_survivors_class2 = children_survivors_class2['Survived'].sum()\n",
    "print(f\"Total number of children of class 2 who survived: {total_children_survivors_class2}\")\n",
    "\n",
    "children_nonsurvivors_class2 = titanic_passenger[(titanic_passenger.Age < 18) & (titanic_passenger.Pclass == 2)]\n",
    "total_children_nonsurvivors_class2 = children_nonsurvivors_class2[children_nonsurvivors_class2['Survived'] == 0].shape[0]\n",
    "print(f\"Total number of children of class 2 who did not survive: {total_children_nonsurvivors_class2}\")\n",
    "\n",
    "# Class 3\n",
    "children_survivors_class3 = titanic_passenger[(titanic_passenger.Age < 18) & (titanic_passenger.Pclass == 3)]\n",
    "total_children_survivors_class3 = children_survivors_class3['Survived'].sum()\n",
    "print(f\"Total number of children of class 3 who survived: {total_children_survivors_class3}\")\n",
    "\n",
    "children_nonsurvivors_class3 = titanic_passenger[(titanic_passenger.Age < 18) & (titanic_passenger.Pclass == 3)]\n",
    "total_children_nonsurvivors_class3 = children_nonsurvivors_class3[children_nonsurvivors_class3['Survived'] == 0].shape[0]\n",
    "print(f\"Total number of children of class 3 who did not survive: {total_children_nonsurvivors_class3}\")"
   ],
   "id": "1717775c127ba75f",
   "outputs": [
    {
     "name": "stdout",
     "output_type": "stream",
     "text": [
      "Total number of children of class 1 who survived: 11\n",
      "Total number of children of class 1 who did not survive: 1\n",
      "Total number of children of class 2 who survived: 21\n",
      "Total number of children of class 2 who did not survive: 2\n",
      "Total number of children of class 3 who survived: 29\n",
      "Total number of children of class 3 who did not survive: 49\n"
     ]
    }
   ],
   "execution_count": 22
  },
  {
   "metadata": {
    "ExecuteTime": {
     "end_time": "2025-01-28T16:55:42.223230Z",
     "start_time": "2025-01-28T16:55:42.033098Z"
    }
   },
   "cell_type": "code",
   "source": [
    "# Diagram showing number on survivors children according to their class\n",
    "classes = ['Class 1', 'Class 2', 'Class 3']\n",
    "survivors = [\n",
    "    titanic_passenger[(titanic_passenger.Age < 18) & (titanic_passenger.Pclass == 1)]['Survived'].sum(),\n",
    "    titanic_passenger[(titanic_passenger.Age < 18) & (titanic_passenger.Pclass == 2)]['Survived'].sum(),\n",
    "    titanic_passenger[(titanic_passenger.Age < 18) & (titanic_passenger.Pclass == 3)]['Survived'].sum()\n",
    "]\n",
    "\n",
    "plt.figure(figsize=(8, 5))\n",
    "plt.bar(classes, survivors, color=['gold', 'silver', '#cd7f32'], edgecolor='black')\n",
    "plt.title('Number of Children Survivors by Class', fontsize=14)\n",
    "plt.xlabel('Passenger Class', fontsize=12)\n",
    "plt.ylabel('Number of Survivors', fontsize=12)\n",
    "plt.ylim(0, max(survivors) + 2)\n",
    "plt.grid(axis='y', linestyle='--', alpha=0.7)\n",
    "plt.show()"
   ],
   "id": "dc845796f0048ab0",
   "outputs": [
    {
     "data": {
      "text/plain": [
       "<Figure size 800x500 with 1 Axes>"
      ],
      "image/png": "[encoded data removed]"
     },
     "metadata": {},
     "output_type": "display_data"
    }
   ],
   "execution_count": 5
  },
  {
   "metadata": {},
   "cell_type": "markdown",
   "source": [
    "In the movie, the upper-class passengers were given preference on\n",
    "lifeboats. Does this show in the data?\n",
    "\n",
    "On the calculations below we do these assumptions:\n",
    "\n",
    "•\tThis gives the idea that children or all passenger from 1st and 2nd class had more chances to survive but not the case for men\n",
    "\n",
    "•\tAlso we can see that the rate for women of 1st and 2nd class had around 95% for surviving and in the opposite, the 3rd class had only 50% chances of surviving\n"
   ],
   "id": "6c1ec153f2d0351b"
  },
  {
   "metadata": {
    "ExecuteTime": {
     "end_time": "2025-01-28T15:56:21.577673Z",
     "start_time": "2025-01-28T15:56:21.454258Z"
    }
   },
   "cell_type": "code",
   "source": [
    "# Calculate survival rates for women according to their classes\n",
    "\n",
    "# Class 1\n",
    "class1_s = titanic_passenger.loc[titanic_passenger.Sex == 'female']['Survived'][titanic_passenger.Pclass == 1]\n",
    "rate_class1_s = class1_s.sum() / class1_s.count()\n",
    "print(\"% of women of class 1 who survived:\", rate_class1_s)\n",
    "\n",
    "# Class 2\n",
    "class2_s = titanic_passenger.loc[titanic_passenger.Sex == 'female']['Survived'][titanic_passenger.Pclass == 2]\n",
    "rate_class2_s = class2_s.sum() / class2_s.count()\n",
    "print(\"% of women of class 2 who survived:\", rate_class2_s)\n",
    "\n",
    "# Class 3\n",
    "class3_s = titanic_passenger.loc[titanic_passenger.Sex == 'female']['Survived'][titanic_passenger.Pclass == 3]\n",
    "rate_class3_s = class3_s.sum() / class3_s.count()\n",
    "print(\"% of women of class 3 who survived:\", rate_class3_s)\n",
    "\n",
    "# Create a bar chart to visualize the survival rates\n",
    "plt.figure(figsize=(8, 5))\n",
    "classes = ['Class 1', 'Class 2', 'Class 3']\n",
    "survival_rates = [rate_class1_s, rate_class2_s, rate_class3_s]\n",
    "colors = ['gold', 'silver', '#cd7f32']  # Colors for each class\n",
    "\n",
    "plt.bar(classes, survival_rates, color=colors, edgecolor='black')\n",
    "plt.title('Survival Rate of Women by Passenger Class', fontsize=14)\n",
    "plt.xlabel('Passenger Class', fontsize=12)\n",
    "plt.ylabel('Survival Rate', fontsize=12)\n",
    "plt.ylim(0, 1)\n",
    "plt.grid(axis='y', linestyle='--', alpha=0.7)\n",
    "plt.show()\n"
   ],
   "id": "a751d6196d843a40",
   "outputs": [
    {
     "name": "stdout",
     "output_type": "stream",
     "text": [
      "% of women of class 1 who survived: 0.9680851063829787\n",
      "% of women of class 2 who survived: 0.9210526315789473\n",
      "% of women of class 3 who survived: 0.5\n"
     ]
    },
    {
     "data": {
      "text/plain": [
       "<Figure size 800x500 with 1 Axes>"
      ],
      "image/png": "[encoded data removed]"
     },
     "metadata": {},
     "output_type": "display_data"
    }
   ],
   "execution_count": 11
  },
  {
   "metadata": {
    "ExecuteTime": {
     "end_time": "2025-01-29T09:31:16.672339Z",
     "start_time": "2025-01-29T09:31:16.554491Z"
    }
   },
   "cell_type": "code",
   "source": [
    "# Diagram of survivors per class\n",
    "sns.countplot(data=titanic_passenger[titanic_passenger['Survived'] == 1], x='Pclass', color = 'blue')\n",
    "\n",
    "plt.title('Survival Count by Class')\n",
    "plt.xlabel('Class')\n",
    "plt.ylabel('Number of Survivors')\n",
    "plt.show()"
   ],
   "id": "543a026a0c6359c2",
   "outputs": [
    {
     "data": {
      "text/plain": [
       "<Figure size 640x480 with 1 Axes>"
      ],
      "image/png": "[encoded data removed]"
     },
     "metadata": {},
     "output_type": "display_data"
    }
   ],
   "execution_count": 12
  }
 ],
 "metadata": {
  "kernelspec": {
   "display_name": "Python 3",
   "language": "python",
   "name": "python3"
  },
  "language_info": {
   "codemirror_mode": {
    "name": "ipython",
    "version": 2
   },
   "file_extension": ".py",
   "mimetype": "text/x-python",
   "name": "python",
   "nbconvert_exporter": "python",
   "pygments_lexer": "ipython2",
   "version": "2.7.6"
  }
 },
 "nbformat": 4,
 "nbformat_minor": 5
}
