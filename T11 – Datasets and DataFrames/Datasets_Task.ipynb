{
 "cells": [
  {
   "cell_type": "markdown",
   "metadata": {
    "id": "_yS6VSYNQlRV"
   },
   "source": [
    "# Datasets Task"
   ]
  },
  {
   "cell_type": "markdown",
   "metadata": {
    "id": "xxJgNn26RYXy"
   },
   "source": [
    "In this task you will use pandas to select data from a dataset and explain the data retrieved for a given line of code."
   ]
  },
  {
   "cell_type": "code",
   "execution_count": 7,
   "metadata": {
    "id": "tJYiNSV2MeX3"
   },
   "outputs": [],
   "source": [
    "import pandas as pd"
   ]
  },
  {
   "cell_type": "markdown",
   "metadata": {
    "id": "a7Kn2dBSMojX"
   },
   "source": [
    "You will use the same `balance.txt` dataset used in the example Jupyter notebook. Remember to ensure it is in the same folder as this notebook."
   ]
  },
  {
   "cell_type": "code",
   "execution_count": null,
   "metadata": {
    "id": "JMyj6fTSMiNr"
   },
   "outputs": [],
   "source": [
    "df = pd.read_csv('balance.txt',sep=' ')"
   ]
  },
  {
   "cell_type": "markdown",
   "metadata": {
    "id": "BKTMPK2USayL"
   },
   "source": [
    "1. Write the code that performs the action described in the following statements."
   ]
  },
  {
   "cell_type": "code",
   "execution_count": 45,
   "metadata": {
    "id": "j_ic1wpxMCmu"
   },
   "outputs": [
    {
     "name": "stdout",
     "output_type": "stream",
     "text": [
      "   Limit  Rating\n",
      "0   3606     283\n",
      "1   6645     483\n",
      "2   7075     514\n",
      "3   9504     681\n",
      "4   4897     357\n"
     ]
    }
   ],
   "source": [
    "# Select the 'Limit' and 'Rating' columns of the first five observations\n",
    "limit_and_rating = df[['Limit', 'Rating']].head(5)\n",
    "print(limit_and_rating)"
   ]
  },
  {
   "cell_type": "code",
   "execution_count": 43,
   "metadata": {
    "id": "H8JeFeHRMWfL"
   },
   "outputs": [
    {
     "name": "stdout",
     "output_type": "stream",
     "text": [
      "      Balance   Income  Limit  Rating  Cards  Age  Education  Gender Student  \\\n",
      "2   22.530409  104.593   7075     514      4   71         11    Male      No   \n",
      "5   22.486178   80.180   8047     569      4   77         10    Male      No   \n",
      "10  13.994990   63.095   8117     589      4   30         14    Male      No   \n",
      "20   9.853100   17.700   2860     235      4   63         16  Female      No   \n",
      "29  14.007770   26.813   5611     411      4   55         16  Female      No   \n",
      "\n",
      "   Married  Ethnicity  \n",
      "2       No      Asian  \n",
      "5       No  Caucasian  \n",
      "10     Yes  Caucasian  \n",
      "20      No      Asian  \n",
      "29      No  Caucasian  \n"
     ]
    }
   ],
   "source": [
    "# Select the first five observations with 4 cards\n",
    "user_with_four_cards = df[df['Cards']== 4].head(5)\n",
    "print(user_with_four_cards)"
   ]
  },
  {
   "cell_type": "code",
   "execution_count": 35,
   "metadata": {
    "id": "CH3AvNv6MY8d"
   },
   "outputs": [
    {
     "name": "stdout",
     "output_type": "stream",
     "text": [
      "      Balance  Income  Limit  Rating  Cards  Age  Education  Gender Student  \\\n",
      "51  13.010768  39.705   3969     301      2   27         20    Male      No   \n",
      "60  13.297283  35.510   5198     364      2   35         20  Female      No   \n",
      "\n",
      "   Married         Ethnicity  \n",
      "51     Yes  African American  \n",
      "60      No             Asian  \n"
     ]
    }
   ],
   "source": [
    "# Sort the observations by 'Education'. Show users with a high education value first.\n",
    "sorted_list = df.sort_values('Education', ascending = False).head(2)\n",
    "print(sorted_list)"
   ]
  },
  {
   "cell_type": "markdown",
   "metadata": {
    "id": "7D6UiDd8M3VA"
   },
   "source": [
    "2. Write a short explanation in the form of a comment for the following lines of code. For example:  \n",
    "```\n",
    "# Selects the first 5 rows, and all of the columns for those rows.\n",
    "df.iloc[:5,:]\n",
    "```"
   ]
  },
  {
   "cell_type": "code",
   "execution_count": 36,
   "metadata": {
    "id": "2ER3T_1HM27b"
   },
   "outputs": [
    {
     "name": "stdout",
     "output_type": "stream",
     "text": [
      "     Balance   Income  Limit  Rating  Cards  Age  Education  Gender Student  \\\n",
      "0  12.240798   14.891   3606     283      2   34         11    Male      No   \n",
      "1  23.283334  106.025   6645     483      3   82         15  Female     Yes   \n",
      "\n",
      "  Married  Ethnicity  \n",
      "0     Yes  Caucasian  \n",
      "1     Yes      Asian  \n"
     ]
    }
   ],
   "source": [
    "# [This will select the whole DataFrame]\n",
    "df.iloc[:,:]"
   ]
  },
  {
   "cell_type": "code",
   "execution_count": 39,
   "metadata": {
    "id": "-CaKYE9YM_1-"
   },
   "outputs": [
    {
     "name": "stdout",
     "output_type": "stream",
     "text": [
      "     Age  Education  Gender Student Married         Ethnicity\n",
      "5     77         10    Male      No      No         Caucasian\n",
      "6     37         12  Female      No      No  African American\n",
      "7     87          9    Male      No      No             Asian\n",
      "8     66         13  Female      No      No         Caucasian\n",
      "9     41         19  Female     Yes     Yes  African American\n",
      "..   ...        ...     ...     ...     ...               ...\n",
      "395   32         13    Male      No     Yes         Caucasian\n",
      "396   65         17    Male      No      No  African American\n",
      "397   67         12  Female      No     Yes         Caucasian\n",
      "398   44         13    Male      No     Yes         Caucasian\n",
      "399   64          7  Female      No      No             Asian\n",
      "\n",
      "[395 rows x 6 columns]\n"
     ]
    }
   ],
   "source": [
    "# [5: This will select rows from row index 5]\n",
    "# [,5: will select columns from column index 5\n",
    "df.iloc[5:,5:]"
   ]
  },
  {
   "cell_type": "code",
   "execution_count": 40,
   "metadata": {
    "id": "jYTu3SJINTFP"
   },
   "outputs": [
    {
     "name": "stdout",
     "output_type": "stream",
     "text": [
      "0      12.240798\n",
      "1      23.283334\n",
      "2      22.530409\n",
      "3      27.652811\n",
      "4      16.893978\n",
      "         ...    \n",
      "395     8.764984\n",
      "396     9.943838\n",
      "397    14.882078\n",
      "398    12.001071\n",
      "399    10.159598\n",
      "Name: Balance, Length: 400, dtype: float64\n"
     ]
    }
   ],
   "source": [
    "# [It will print the whole DataFrame wiht only one colum(first one)]\n",
    "df.iloc[:,0]\n"
   ]
  },
  {
   "cell_type": "code",
   "execution_count": 42,
   "metadata": {
    "id": "YRVRGDCvNq6k"
   },
   "outputs": [
    {
     "data": {
      "text/plain": [
       "Balance             17.756965\n",
       "Income                 71.061\n",
       "Limit                    6819\n",
       "Rating                    491\n",
       "Cards                       3\n",
       "Age                        41\n",
       "Education                  19\n",
       "Gender                 Female\n",
       "Student                   Yes\n",
       "Married                   Yes\n",
       "Ethnicity    African American\n",
       "Name: 9, dtype: object"
      ]
     },
     "execution_count": 42,
     "metadata": {},
     "output_type": "execute_result"
    }
   ],
   "source": [
    "# [This will print all the columns for the row index numer 9]\n",
    "df.iloc[9,:]\n"
   ]
  },
  {
   "cell_type": "code",
   "execution_count": null,
   "metadata": {},
   "outputs": [],
   "source": []
  }
 ],
 "metadata": {
  "colab": {
   "provenance": []
  },
  "kernelspec": {
   "display_name": "Python 3 (ipykernel)",
   "language": "python",
   "name": "python3"
  },
  "language_info": {
   "codemirror_mode": {
    "name": "ipython",
    "version": 3
   },
   "file_extension": ".py",
   "mimetype": "text/x-python",
   "name": "python",
   "nbconvert_exporter": "python",
   "pygments_lexer": "ipython3",
   "version": "3.10.12"
  }
 },
 "nbformat": 4,
 "nbformat_minor": 4
}
